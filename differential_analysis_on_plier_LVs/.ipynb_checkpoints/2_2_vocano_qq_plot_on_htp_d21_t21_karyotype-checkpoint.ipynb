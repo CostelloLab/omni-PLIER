{
 "cells": [
  {
   "cell_type": "code",
   "execution_count": 1,
   "id": "69cafa95-250e-472e-b292-61a2e4ade445",
   "metadata": {},
   "outputs": [],
   "source": [
    "import os\n",
    "\n",
    "os.environ['R_HOME'] = '/home/snandi/anaconda3/envs/py_311_r43/lib/R'\n",
    "%load_ext rpy2.ipython"
   ]
  },
  {
   "cell_type": "code",
   "execution_count": 2,
   "id": "5bcb1f51-ade0-4e3b-a55e-8ec0c3376913",
   "metadata": {
    "tags": []
   },
   "outputs": [],
   "source": [
    "%%R\n",
    "\n",
    "read_count_dis_co_occu_d21_t21=read.csv('./output/plier_LVS_D21_T2_BMI_htp_for_deseq2.csv', header = TRUE)\n",
    "\n",
    "# Convert the first column to row names\n",
    "rownames(read_count_dis_co_occu_d21_t21) <- read_count_dis_co_occu_d21_t21[, ncol(read_count_dis_co_occu_d21_t21)]\n",
    "\n",
    "# Remove the first column from the data frame\n",
    "read_count_dis_co_occu_d21_t21 <- read_count_dis_co_occu_d21_t21[, -ncol(read_count_dis_co_occu_d21_t21)]\n",
    "\n",
    "# Display the first few rows of the data\n",
    "#head(read_count_dis_co_occu_d21_t21)"
   ]
  },
  {
   "cell_type": "code",
   "execution_count": 3,
   "id": "07a843e2-100a-4972-a9c3-98e1248d494d",
   "metadata": {
    "tags": []
   },
   "outputs": [
    {
     "name": "stdout",
     "output_type": "stream",
     "text": [
      "             Sex Karyotype Event_name     LabID Age_at_visit      BMI\n",
      "HTP0001B2 Female   Control    Visit 3 HTP0001B2         25.8 21.92959\n",
      "HTP0005A3   Male       T21    Visit 3 HTP0005A3         36.5 24.34652\n",
      "HTP0012A2 Female       T21    Visit 2 HTP0012A2         44.0 23.14031\n",
      "HTP0015A4   Male       T21    Visit 4 HTP0015A4         31.2 62.34889\n",
      "HTP0017A4 Female       T21    Visit 4 HTP0017A4         23.6 24.17873\n",
      "HTP0022B2 Female   Control    Visit 2 HTP0022B2         43.2 27.95809\n",
      "          Sample_source Anxiety Any.autoimmune.skin.condition\n",
      "HTP0001B2         Local       1                             0\n",
      "HTP0005A3         Local       1                             0\n",
      "HTP0012A2         Local       0                             1\n",
      "HTP0015A4         Local       0                             1\n",
      "HTP0017A4         Local       0                             0\n",
      "HTP0022B2         Local       1                             0\n",
      "          Any.congenital.heart.defect Any.hearing.loss.condition\n",
      "HTP0001B2                           0                          0\n",
      "HTP0005A3                           0                          0\n",
      "HTP0012A2                          NA                          0\n",
      "HTP0015A4                           1                          0\n",
      "HTP0017A4                           1                          0\n",
      "HTP0022B2                           0                          0\n",
      "          Any.hypothyroidism Any.seizure.history Any.sleep.apnea\n",
      "HTP0001B2                  0                  NA               0\n",
      "HTP0005A3                  0                   1               1\n",
      "HTP0012A2                  0                   1              NA\n",
      "HTP0015A4                  1                  NA               1\n",
      "HTP0017A4                  0                  NA               0\n",
      "HTP0022B2                  0                  NA               0\n",
      "          Asthma.reactive.airway.disease Autism.spectrum.disorder Cataracts\n",
      "HTP0001B2                              0                        0         0\n",
      "HTP0005A3                              0                        0         0\n",
      "HTP0012A2                             NA                        0         0\n",
      "HTP0015A4                              1                        0         0\n",
      "HTP0017A4                              0                        0         0\n",
      "HTP0022B2                              0                        0         0\n",
      "          Celiac.disease Depression Frequent.Recurrent.pneumonia Obesity\n",
      "HTP0001B2              0          0                            0       0\n",
      "HTP0005A3              0          0                            0       0\n",
      "HTP0012A2              0          1                           NA       0\n",
      "HTP0015A4              0          0                            0       1\n",
      "HTP0017A4              0          0                            0       0\n",
      "HTP0022B2              0          1                            0       0\n",
      "          Pulmonary.hypertension Recurrent.otitis.media Regression   BMI_dis\n",
      "HTP0001B2                      0                      0          0 BMI_LT_30\n",
      "HTP0005A3                      0                      0          0 BMI_LT_30\n",
      "HTP0012A2                     NA                     NA          0 BMI_LT_30\n",
      "HTP0015A4                      0                      0          0 BMI_GT_30\n",
      "HTP0017A4                      0                      0          0 BMI_LT_30\n",
      "HTP0022B2                      0                      0          0 BMI_LT_30\n"
     ]
    }
   ],
   "source": [
    "%%R\n",
    "\n",
    "meta_data_dis_co_occu_d21_t21=read.csv('./output/HTP_meta_data_D21_T21_BMI.csv', header = TRUE)\n",
    "\n",
    "# Convert the first column to row names\n",
    "rownames(meta_data_dis_co_occu_d21_t21) <- meta_data_dis_co_occu_d21_t21$LabID\n",
    "\n",
    "# Remove the first column from the data frame\n",
    "#read_count_dis_co_occu_d21_t21 <- read_count_dis_co_occu_d21_t21[, -1]\n",
    "\n",
    "# Display the first few rows of the data\n",
    "head(meta_data_dis_co_occu_d21_t21)"
   ]
  },
  {
   "cell_type": "code",
   "execution_count": 4,
   "id": "988e56a2-331e-4cc7-97fc-895ab3b3b1ee",
   "metadata": {
    "tags": []
   },
   "outputs": [],
   "source": [
    "%%R\n",
    "group=meta_data_dis_co_occu_d21_t21$BMI_dis"
   ]
  },
  {
   "cell_type": "code",
   "execution_count": 5,
   "id": "712e9058-d5cd-4f46-835b-d6b1bbf6fdf7",
   "metadata": {
    "tags": []
   },
   "outputs": [
    {
     "name": "stderr",
     "output_type": "stream",
     "text": [
      "R[write to console]: Removing intercept from test coefficients\n",
      "\n"
     ]
    }
   ],
   "source": [
    "%%R\n",
    "# Load the limma package\n",
    "library(limma)\n",
    "\n",
    "# Example expression matrix M (rows are genes, columns are samples)\n",
    "#M <- matrix(rnorm(1000), nrow=100, ncol=10)  # Simulated data\n",
    "\n",
    "# Create a design matrix\n",
    "#group <- factor(c(rep(\"Control\", 5), rep(\"Treatment\", 5)))\n",
    "design <- model.matrix(~group)\n",
    "\n",
    "# Fit the linear model\n",
    "fit <- lmFit(read_count_dis_co_occu_d21_t21, design)\n",
    "\n",
    "# Examine the fit object\n",
    "head(fit)\n",
    "\n",
    "fit <- eBayes(fit)\n",
    "results <- topTable(fit, number=Inf)\n",
    "\n",
    "\n",
    "# Create the volcano plot\n",
    "volcano_data <- data.frame(\n",
    "    LVs=rownames(results),\n",
    "    logFC = results$logFC,\n",
    "    adj_Pval=results$adj.P.Val,\n",
    "    negLogadj_Pval = -log10(results$adj.P.Val)\n",
    ")"
   ]
  },
  {
   "cell_type": "code",
   "execution_count": 6,
   "id": "7144f2c1-e0d4-4f3d-b063-c6a6ebce98bd",
   "metadata": {
    "tags": []
   },
   "outputs": [
    {
     "name": "stdout",
     "output_type": "stream",
     "text": [
      "    LVs      logFC     adj_Pval negLogadj_Pval\n",
      "1  LV37 -5.8620505 3.330138e-06       5.477538\n",
      "2  LV43  2.7419379 2.468918e-04       3.607493\n",
      "3  LV34  3.4855795 2.468918e-04       3.607493\n",
      "4   LV6 -6.1226084 2.653734e-04       3.576143\n",
      "5  LV83  1.8089640 1.841066e-03       2.734931\n",
      "6 LV100  0.9929464 2.852902e-03       2.544713\n"
     ]
    }
   ],
   "source": [
    "%%R\n",
    "\n",
    "head(volcano_data)\n"
   ]
  },
  {
   "cell_type": "code",
   "execution_count": 22,
   "id": "db273f2c-46a6-4d0f-b794-97c421fab2b0",
   "metadata": {
    "tags": []
   },
   "outputs": [],
   "source": [
    "%%R\n",
    "\n",
    "fit$gene_names=rownames(fit)"
   ]
  },
  {
   "cell_type": "code",
   "execution_count": 7,
   "id": "f9447ab5-15fd-4e5b-8f5f-33c3c3dff3d9",
   "metadata": {
    "tags": []
   },
   "outputs": [],
   "source": [
    "%%R\n",
    "# The significantly differentially expressed genes are the ones found in the upper-left and upper-right corners.\n",
    "# Add a column to the data frame to specify if they are UP- or DOWN- regulated (log2FoldChange respectively positive or negative)\n",
    "\n",
    "# add a column of NAs\n",
    "volcano_data$diffexpressed <- \"NO\"\n",
    "# if log2Foldchange > 0.6 and pvalue < 0.05, set as \"UP\" \n",
    "volcano_data$diffexpressed[volcano_data$logFC > 0.6 & volcano_data$P.Value < 0.05] <- \"UP\"\n",
    "# if log2Foldchange < -0.6 and pvalue < 0.05, set as \"DOWN\"\n",
    "volcano_data$diffexpressed[volcano_data$logFC < -0.6 & volcano_data$P.Value < 0.05] <- \"DOWN\"\n"
   ]
  },
  {
   "cell_type": "code",
   "execution_count": 8,
   "id": "105a19b6-2325-46c0-955f-8fbd48500c62",
   "metadata": {
    "tags": []
   },
   "outputs": [
    {
     "name": "stdout",
     "output_type": "stream",
     "text": [
      "    LVs      logFC     adj_Pval negLogadj_Pval diffexpressed\n",
      "1  LV37 -5.8620505 3.330138e-06       5.477538            NO\n",
      "2  LV43  2.7419379 2.468918e-04       3.607493            NO\n",
      "3  LV34  3.4855795 2.468918e-04       3.607493            NO\n",
      "4   LV6 -6.1226084 2.653734e-04       3.576143            NO\n",
      "5  LV83  1.8089640 1.841066e-03       2.734931            NO\n",
      "6 LV100  0.9929464 2.852902e-03       2.544713            NO\n"
     ]
    }
   ],
   "source": [
    "%%R\n",
    "head(volcano_data)"
   ]
  },
  {
   "cell_type": "code",
   "execution_count": 9,
   "id": "a4fa6aba-7dd1-4827-bc30-653aa16d7f45",
   "metadata": {},
   "outputs": [
    {
     "data": {
      "text/plain": [
       "'%%R\\nlibrary(ggplot2)\\n\\n# Assuming you have a GSEA results object `gsea_results` with p-values\\n# Example: creating a mock p-value dataset for demonstration\\nset.seed(123)\\ngsea_pvalues <- volcano_data$adj_Pval  # Simulated p-values\\n\\n# Create a data frame for the p-values\\nqq_data <- data.frame(\\n    observed = -log10(sort(gsea_pvalues)),\\n    expected = -log10(ppoints(length(gsea_pvalues)))\\n)\\n\\n# Basic Q-Q plot using ggplot2\\np=ggplot(qq_data, aes(x = expected, y = observed)) +\\n    geom_point(size=2.5, alpha = 0.4, color = \"blue\")  +\\n    geom_abline(slope = 1, intercept = 0, color = \"red\") +\\n    xlab(\"Expected -Log10 adj P-Value\") +\\n    ylab(\"Observed -Log10 adj P-Value\") + \\n    ggtitle(\"Q-Q Plot for PLIER LVs \\n T21/D21-BMI (FDR.q.val>0.25)\") +\\n    \\n    theme_minimal() + theme(\\n        plot.title = element_text(hjust = 0.5),\\n        axis.text = element_text(size = 14),\\n        axis.title = element_text(size = 18)\\n    ) + theme(\\n    axis.line.x = element_line(colour = \"grey50\"),\\n    axis.line.y = element_line(colour = \"grey50\")\\n  )+theme(plot.title = element_text(size=18))\\n    \\n    \\n    \\nggsave(\"qq_plot_plier_LVS_d21_t21_BMI.pdf\", plot = p, width = 6, height = 6, dpi = 300, units = \"in\",bg=\"white\", device = \"pdf\")\\n'"
      ]
     },
     "execution_count": 9,
     "metadata": {},
     "output_type": "execute_result"
    }
   ],
   "source": [
    "'''%%R\n",
    "library(ggplot2)\n",
    "\n",
    "# Assuming you have a GSEA results object `gsea_results` with p-values\n",
    "# Example: creating a mock p-value dataset for demonstration\n",
    "set.seed(123)\n",
    "gsea_pvalues <- volcano_data$adj_Pval  # Simulated p-values\n",
    "\n",
    "# Create a data frame for the p-values\n",
    "qq_data <- data.frame(\n",
    "    observed = -log10(sort(gsea_pvalues)),\n",
    "    expected = -log10(ppoints(length(gsea_pvalues)))\n",
    ")\n",
    "\n",
    "# Basic Q-Q plot using ggplot2\n",
    "p=ggplot(qq_data, aes(x = expected, y = observed)) +\n",
    "    geom_point(size=2.5, alpha = 0.4, color = \"blue\")  +\n",
    "    geom_abline(slope = 1, intercept = 0, color = \"red\") +\n",
    "    xlab(\"Expected -Log10 adj P-Value\") +\n",
    "    ylab(\"Observed -Log10 adj P-Value\") + \n",
    "    ggtitle(\"Q-Q Plot for PLIER LVs \\n T21/D21-BMI (FDR.q.val>0.25)\") +\n",
    "    \n",
    "    theme_minimal() + theme(\n",
    "        plot.title = element_text(hjust = 0.5),\n",
    "        axis.text = element_text(size = 14),\n",
    "        axis.title = element_text(size = 18)\n",
    "    ) + theme(\n",
    "    axis.line.x = element_line(colour = \"grey50\"),\n",
    "    axis.line.y = element_line(colour = \"grey50\")\n",
    "  )+theme(plot.title = element_text(size=18))\n",
    "    \n",
    "    \n",
    "    \n",
    "ggsave(\"qq_plot_plier_LVS_d21_t21_BMI.pdf\", plot = p, width = 6, height = 6, dpi = 300, units = \"in\",bg=\"white\", device = \"pdf\")\n",
    "'''"
   ]
  },
  {
   "cell_type": "code",
   "execution_count": 30,
   "id": "c15c7f3d-8eca-4f25-8656-8f252e37c044",
   "metadata": {
    "tags": []
   },
   "outputs": [],
   "source": [
    "%%R\n",
    "library(EnhancedVolcano)\n",
    "p1=EnhancedVolcano(volcano_data,\n",
    "lab = volcano_data$LVs,\n",
    "x = 'logFC',\n",
    "y = 'adj_Pval',\n",
    "title = 'D21/T21-BMI',\n",
    "xlab = 'Log2 FC of LVs',\n",
    "ylab = '-Log10 adj-P-value',\n",
    "pCutoff = 0.05,\n",
    "pCutoffCol = 'adj_Pval',\n",
    "                \n",
    "FCcutoff = 2,\n",
    "pointSize = 3.0,\n",
    "labSize = 6.0,\n",
    "subtitle = 'Differential LVs',\n",
    "legendLabels = c(\"NS\", expression(Log[2] ~ FC), \"adj-P\", expression(\"adj-P-value\" ~ and~ log[2] ~ FC)),)\n",
    "\n",
    "\n",
    "\n",
    "ggsave(\"volcano_plot_plier_LVS_d21_t21_BMI.pdf\", plot = p1, width = 6, height = 6, dpi = 300, units = \"in\",bg=\"white\", device = \"pdf\")\n"
   ]
  },
  {
   "cell_type": "code",
   "execution_count": null,
   "id": "8949c146-af99-4cd6-ad81-3302230b5451",
   "metadata": {},
   "outputs": [],
   "source": []
  },
  {
   "cell_type": "code",
   "execution_count": null,
   "id": "f3309bff-5948-4020-8c06-a2bd8fb34483",
   "metadata": {},
   "outputs": [],
   "source": []
  },
  {
   "cell_type": "code",
   "execution_count": null,
   "id": "37945955-0ca6-4a1d-af59-6779b1800c45",
   "metadata": {},
   "outputs": [],
   "source": []
  },
  {
   "cell_type": "code",
   "execution_count": null,
   "id": "d01f5bd0-dd72-4e20-84a7-7dd1c07ae790",
   "metadata": {},
   "outputs": [],
   "source": []
  },
  {
   "cell_type": "code",
   "execution_count": null,
   "id": "dde2d4c9-5d00-42ae-8b7d-770ab3435de2",
   "metadata": {},
   "outputs": [],
   "source": []
  },
  {
   "cell_type": "code",
   "execution_count": null,
   "id": "96ef1927-c79a-4778-b6f9-5f54662db623",
   "metadata": {},
   "outputs": [],
   "source": []
  },
  {
   "cell_type": "code",
   "execution_count": null,
   "id": "88a1130e-d355-47fa-aa63-604fc0333710",
   "metadata": {},
   "outputs": [],
   "source": []
  },
  {
   "cell_type": "code",
   "execution_count": null,
   "id": "62a353b6-47c7-4bff-b78c-505e1a114298",
   "metadata": {},
   "outputs": [],
   "source": []
  },
  {
   "cell_type": "code",
   "execution_count": null,
   "id": "a4c6f6bf-0d95-4d85-ad19-788723fbebdc",
   "metadata": {},
   "outputs": [],
   "source": []
  },
  {
   "cell_type": "code",
   "execution_count": null,
   "id": "f95f4517-c236-4bc2-80b2-738382488a37",
   "metadata": {},
   "outputs": [],
   "source": []
  },
  {
   "cell_type": "code",
   "execution_count": null,
   "id": "77586d4b-5873-4ad8-bf4e-e79effbae543",
   "metadata": {},
   "outputs": [],
   "source": []
  },
  {
   "cell_type": "code",
   "execution_count": null,
   "id": "f0677e3c-7ee5-4ca9-9b0d-503d76cfffa4",
   "metadata": {},
   "outputs": [],
   "source": []
  },
  {
   "cell_type": "code",
   "execution_count": 25,
   "id": "b4800bc2-f516-4c6a-a1c2-89894a2270d6",
   "metadata": {
    "tags": []
   },
   "outputs": [
    {
     "name": "stdout",
     "output_type": "stream",
     "text": [
      "[1] 7089\n"
     ]
    }
   ],
   "source": [
    "%%R\n",
    "sum(res$padj < 0.001, na.rm=TRUE)"
   ]
  },
  {
   "cell_type": "code",
   "execution_count": 32,
   "id": "a0650ad5-79e1-4bdd-991b-c2b8867d8378",
   "metadata": {
    "tags": []
   },
   "outputs": [
    {
     "name": "stdout",
     "output_type": "stream",
     "text": [
      "[1] 12422\n"
     ]
    }
   ],
   "source": [
    "%%R\n",
    "sum(res$padj < 0.05, na.rm=TRUE)"
   ]
  },
  {
   "cell_type": "code",
   "execution_count": 26,
   "id": "2fa69416-3236-4511-92d4-73f77d697027",
   "metadata": {
    "tags": []
   },
   "outputs": [
    {
     "name": "stdout",
     "output_type": "stream",
     "text": [
      "\n",
      "out of 49210 with nonzero total read count\n",
      "adjusted p-value < 0.05\n",
      "LFC > 0 (up)       : 6248, 13%\n",
      "LFC < 0 (down)     : 6242, 13%\n",
      "outliers [1]       : 0, 0%\n",
      "low counts [2]     : 18849, 38%\n",
      "(mean count < 0)\n",
      "[1] see 'cooksCutoff' argument of ?results\n",
      "[2] see 'independentFiltering' argument of ?results\n",
      "\n"
     ]
    }
   ],
   "source": [
    "%%R\n",
    "res05 <- results(dds, alpha=0.05)\n",
    "summary(res05)"
   ]
  },
  {
   "cell_type": "code",
   "execution_count": 58,
   "id": "03a17493-ff65-4233-b4f0-3c9f2401b9a9",
   "metadata": {
    "tags": []
   },
   "outputs": [
    {
     "name": "stderr",
     "output_type": "stream",
     "text": [
      "R[write to console]: Error in (function (expr, envir = parent.frame(), enclos = if (is.list(envir) ||  : \n",
      "  object 'res05' not found\n",
      "\n"
     ]
    },
    {
     "name": "stdout",
     "output_type": "stream",
     "text": [
      "\n",
      "Error in (function (expr, envir = parent.frame(), enclos = if (is.list(envir) ||  : \n",
      "  object 'res05' not found\n"
     ]
    },
    {
     "ename": "RInterpreterError",
     "evalue": "Failed to parse and evaluate line \"library(EnhancedVolcano)\\n\\nEnhancedVolcano(res05,\\n    lab = rownames(res05),\\n    pCutoff = 10e-32,\\n    FCcutoff = 0.5,\\n    x = 'log2FoldChange',\\n    y = 'pvalue')\\n\".\nR error message: \"Error in (function (expr, envir = parent.frame(), enclos = if (is.list(envir) ||  : \\n  object 'res05' not found\"",
     "output_type": "error",
     "traceback": [
      "\u001b[0;31m---------------------------------------------------------------------------\u001b[0m",
      "\u001b[0;31mRRuntimeError\u001b[0m                             Traceback (most recent call last)",
      "File \u001b[0;32m~/anaconda3/envs/py_311_r43/lib/python3.11/site-packages/rpy2/ipython/rmagic.py:268\u001b[0m, in \u001b[0;36mRMagics.eval\u001b[0;34m(self, code)\u001b[0m\n\u001b[1;32m    266\u001b[0m \u001b[38;5;28;01mtry\u001b[39;00m:\n\u001b[1;32m    267\u001b[0m     \u001b[38;5;66;03m# Need the newline in case the last line in code is a comment.\u001b[39;00m\n\u001b[0;32m--> 268\u001b[0m     value, visible \u001b[38;5;241m=\u001b[39m ro\u001b[38;5;241m.\u001b[39mr(\u001b[38;5;124m\"\u001b[39m\u001b[38;5;124mwithVisible(\u001b[39m\u001b[38;5;124m{\u001b[39m\u001b[38;5;132;01m%s\u001b[39;00m\u001b[38;5;130;01m\\n\u001b[39;00m\u001b[38;5;124m})\u001b[39m\u001b[38;5;124m\"\u001b[39m \u001b[38;5;241m%\u001b[39m code)\n\u001b[1;32m    269\u001b[0m \u001b[38;5;28;01mexcept\u001b[39;00m (ri\u001b[38;5;241m.\u001b[39membedded\u001b[38;5;241m.\u001b[39mRRuntimeError, \u001b[38;5;167;01mValueError\u001b[39;00m) \u001b[38;5;28;01mas\u001b[39;00m exception:\n\u001b[1;32m    270\u001b[0m     \u001b[38;5;66;03m# Otherwise next return seems to have copy of error.\u001b[39;00m\n",
      "File \u001b[0;32m~/anaconda3/envs/py_311_r43/lib/python3.11/site-packages/rpy2/robjects/__init__.py:438\u001b[0m, in \u001b[0;36mR.__call__\u001b[0;34m(self, string)\u001b[0m\n\u001b[1;32m    437\u001b[0m p \u001b[38;5;241m=\u001b[39m rinterface\u001b[38;5;241m.\u001b[39mparse(string)\n\u001b[0;32m--> 438\u001b[0m res \u001b[38;5;241m=\u001b[39m \u001b[38;5;28mself\u001b[39m\u001b[38;5;241m.\u001b[39meval(p)\n\u001b[1;32m    439\u001b[0m \u001b[38;5;28;01mreturn\u001b[39;00m conversion\u001b[38;5;241m.\u001b[39mrpy2py(res)\n",
      "File \u001b[0;32m~/anaconda3/envs/py_311_r43/lib/python3.11/site-packages/rpy2/robjects/functions.py:198\u001b[0m, in \u001b[0;36mSignatureTranslatedFunction.__call__\u001b[0;34m(self, *args, **kwargs)\u001b[0m\n\u001b[1;32m    197\u001b[0m         kwargs[r_k] \u001b[38;5;241m=\u001b[39m v\n\u001b[0;32m--> 198\u001b[0m \u001b[38;5;28;01mreturn\u001b[39;00m (\u001b[38;5;28msuper\u001b[39m(SignatureTranslatedFunction, \u001b[38;5;28mself\u001b[39m)\n\u001b[1;32m    199\u001b[0m         \u001b[38;5;241m.\u001b[39m\u001b[38;5;21m__call__\u001b[39m(\u001b[38;5;241m*\u001b[39margs, \u001b[38;5;241m*\u001b[39m\u001b[38;5;241m*\u001b[39mkwargs))\n",
      "File \u001b[0;32m~/anaconda3/envs/py_311_r43/lib/python3.11/site-packages/rpy2/robjects/functions.py:125\u001b[0m, in \u001b[0;36mFunction.__call__\u001b[0;34m(self, *args, **kwargs)\u001b[0m\n\u001b[1;32m    124\u001b[0m         new_kwargs[k] \u001b[38;5;241m=\u001b[39m conversion\u001b[38;5;241m.\u001b[39mpy2rpy(v)\n\u001b[0;32m--> 125\u001b[0m res \u001b[38;5;241m=\u001b[39m \u001b[38;5;28msuper\u001b[39m(Function, \u001b[38;5;28mself\u001b[39m)\u001b[38;5;241m.\u001b[39m\u001b[38;5;21m__call__\u001b[39m(\u001b[38;5;241m*\u001b[39mnew_args, \u001b[38;5;241m*\u001b[39m\u001b[38;5;241m*\u001b[39mnew_kwargs)\n\u001b[1;32m    126\u001b[0m res \u001b[38;5;241m=\u001b[39m conversion\u001b[38;5;241m.\u001b[39mrpy2py(res)\n",
      "File \u001b[0;32m~/anaconda3/envs/py_311_r43/lib/python3.11/site-packages/rpy2/rinterface_lib/conversion.py:45\u001b[0m, in \u001b[0;36m_cdata_res_to_rinterface.<locals>._\u001b[0;34m(*args, **kwargs)\u001b[0m\n\u001b[1;32m     44\u001b[0m \u001b[38;5;28;01mdef\u001b[39;00m \u001b[38;5;21m_\u001b[39m(\u001b[38;5;241m*\u001b[39margs, \u001b[38;5;241m*\u001b[39m\u001b[38;5;241m*\u001b[39mkwargs):\n\u001b[0;32m---> 45\u001b[0m     cdata \u001b[38;5;241m=\u001b[39m function(\u001b[38;5;241m*\u001b[39margs, \u001b[38;5;241m*\u001b[39m\u001b[38;5;241m*\u001b[39mkwargs)\n\u001b[1;32m     46\u001b[0m     \u001b[38;5;66;03m# TODO: test cdata is of the expected CType\u001b[39;00m\n",
      "File \u001b[0;32m~/anaconda3/envs/py_311_r43/lib/python3.11/site-packages/rpy2/rinterface.py:680\u001b[0m, in \u001b[0;36mSexpClosure.__call__\u001b[0;34m(self, *args, **kwargs)\u001b[0m\n\u001b[1;32m    679\u001b[0m     \u001b[38;5;28;01mif\u001b[39;00m error_occured[\u001b[38;5;241m0\u001b[39m]:\n\u001b[0;32m--> 680\u001b[0m         \u001b[38;5;28;01mraise\u001b[39;00m embedded\u001b[38;5;241m.\u001b[39mRRuntimeError(_rinterface\u001b[38;5;241m.\u001b[39m_geterrmessage())\n\u001b[1;32m    681\u001b[0m \u001b[38;5;28;01mreturn\u001b[39;00m res\n",
      "\u001b[0;31mRRuntimeError\u001b[0m: Error in (function (expr, envir = parent.frame(), enclos = if (is.list(envir) ||  : \n  object 'res05' not found\n",
      "\nDuring handling of the above exception, another exception occurred:\n",
      "\u001b[0;31mRInterpreterError\u001b[0m                         Traceback (most recent call last)",
      "Cell \u001b[0;32mIn[58], line 1\u001b[0m\n\u001b[0;32m----> 1\u001b[0m get_ipython()\u001b[38;5;241m.\u001b[39mrun_cell_magic(\u001b[38;5;124m'\u001b[39m\u001b[38;5;124mR\u001b[39m\u001b[38;5;124m'\u001b[39m, \u001b[38;5;124m'\u001b[39m\u001b[38;5;124m'\u001b[39m, \u001b[38;5;124m\"\u001b[39m\u001b[38;5;124mlibrary(EnhancedVolcano)\u001b[39m\u001b[38;5;130;01m\\n\u001b[39;00m\u001b[38;5;130;01m\\n\u001b[39;00m\u001b[38;5;124mEnhancedVolcano(res05,\u001b[39m\u001b[38;5;130;01m\\n\u001b[39;00m\u001b[38;5;124m    lab = rownames(res05),\u001b[39m\u001b[38;5;130;01m\\n\u001b[39;00m\u001b[38;5;124m    pCutoff = 10e-32,\u001b[39m\u001b[38;5;130;01m\\n\u001b[39;00m\u001b[38;5;124m    FCcutoff = 0.5,\u001b[39m\u001b[38;5;130;01m\\n\u001b[39;00m\u001b[38;5;124m    x = \u001b[39m\u001b[38;5;124m'\u001b[39m\u001b[38;5;124mlog2FoldChange\u001b[39m\u001b[38;5;124m'\u001b[39m\u001b[38;5;124m,\u001b[39m\u001b[38;5;130;01m\\n\u001b[39;00m\u001b[38;5;124m    y = \u001b[39m\u001b[38;5;124m'\u001b[39m\u001b[38;5;124mpvalue\u001b[39m\u001b[38;5;124m'\u001b[39m\u001b[38;5;124m)\u001b[39m\u001b[38;5;130;01m\\n\u001b[39;00m\u001b[38;5;124m\"\u001b[39m)\n",
      "File \u001b[0;32m~/anaconda3/envs/py_311_r43/lib/python3.11/site-packages/IPython/core/interactiveshell.py:2517\u001b[0m, in \u001b[0;36mInteractiveShell.run_cell_magic\u001b[0;34m(self, magic_name, line, cell)\u001b[0m\n\u001b[1;32m   2515\u001b[0m \u001b[38;5;28;01mwith\u001b[39;00m \u001b[38;5;28mself\u001b[39m\u001b[38;5;241m.\u001b[39mbuiltin_trap:\n\u001b[1;32m   2516\u001b[0m     args \u001b[38;5;241m=\u001b[39m (magic_arg_s, cell)\n\u001b[0;32m-> 2517\u001b[0m     result \u001b[38;5;241m=\u001b[39m fn(\u001b[38;5;241m*\u001b[39margs, \u001b[38;5;241m*\u001b[39m\u001b[38;5;241m*\u001b[39mkwargs)\n\u001b[1;32m   2519\u001b[0m \u001b[38;5;66;03m# The code below prevents the output from being displayed\u001b[39;00m\n\u001b[1;32m   2520\u001b[0m \u001b[38;5;66;03m# when using magics with decorator @output_can_be_silenced\u001b[39;00m\n\u001b[1;32m   2521\u001b[0m \u001b[38;5;66;03m# when the last Python token in the expression is a ';'.\u001b[39;00m\n\u001b[1;32m   2522\u001b[0m \u001b[38;5;28;01mif\u001b[39;00m \u001b[38;5;28mgetattr\u001b[39m(fn, magic\u001b[38;5;241m.\u001b[39mMAGIC_OUTPUT_CAN_BE_SILENCED, \u001b[38;5;28;01mFalse\u001b[39;00m):\n",
      "File \u001b[0;32m~/anaconda3/envs/py_311_r43/lib/python3.11/site-packages/rpy2/ipython/rmagic.py:783\u001b[0m, in \u001b[0;36mRMagics.R\u001b[0;34m(self, line, cell, local_ns)\u001b[0m\n\u001b[1;32m    781\u001b[0m     \u001b[38;5;28;01mif\u001b[39;00m \u001b[38;5;129;01mnot\u001b[39;00m e\u001b[38;5;241m.\u001b[39mstdout\u001b[38;5;241m.\u001b[39mendswith(e\u001b[38;5;241m.\u001b[39merr):\n\u001b[1;32m    782\u001b[0m         \u001b[38;5;28mprint\u001b[39m(e\u001b[38;5;241m.\u001b[39merr)\n\u001b[0;32m--> 783\u001b[0m     \u001b[38;5;28;01mraise\u001b[39;00m e\n\u001b[1;32m    784\u001b[0m \u001b[38;5;28;01mfinally\u001b[39;00m:\n\u001b[1;32m    785\u001b[0m     \u001b[38;5;28;01mif\u001b[39;00m \u001b[38;5;28mself\u001b[39m\u001b[38;5;241m.\u001b[39mdevice \u001b[38;5;129;01min\u001b[39;00m [\u001b[38;5;124m'\u001b[39m\u001b[38;5;124mpng\u001b[39m\u001b[38;5;124m'\u001b[39m, \u001b[38;5;124m'\u001b[39m\u001b[38;5;124msvg\u001b[39m\u001b[38;5;124m'\u001b[39m]:\n",
      "File \u001b[0;32m~/anaconda3/envs/py_311_r43/lib/python3.11/site-packages/rpy2/ipython/rmagic.py:763\u001b[0m, in \u001b[0;36mRMagics.R\u001b[0;34m(self, line, cell, local_ns)\u001b[0m\n\u001b[1;32m    761\u001b[0m         return_output \u001b[38;5;241m=\u001b[39m \u001b[38;5;28;01mFalse\u001b[39;00m\n\u001b[1;32m    762\u001b[0m \u001b[38;5;28;01melse\u001b[39;00m:\n\u001b[0;32m--> 763\u001b[0m     text_result, result, visible \u001b[38;5;241m=\u001b[39m \u001b[38;5;28mself\u001b[39m\u001b[38;5;241m.\u001b[39meval(code)\n\u001b[1;32m    764\u001b[0m     text_output \u001b[38;5;241m+\u001b[39m\u001b[38;5;241m=\u001b[39m text_result\n\u001b[1;32m    765\u001b[0m     \u001b[38;5;28;01mif\u001b[39;00m visible:\n",
      "File \u001b[0;32m~/anaconda3/envs/py_311_r43/lib/python3.11/site-packages/rpy2/ipython/rmagic.py:272\u001b[0m, in \u001b[0;36mRMagics.eval\u001b[0;34m(self, code)\u001b[0m\n\u001b[1;32m    269\u001b[0m \u001b[38;5;28;01mexcept\u001b[39;00m (ri\u001b[38;5;241m.\u001b[39membedded\u001b[38;5;241m.\u001b[39mRRuntimeError, \u001b[38;5;167;01mValueError\u001b[39;00m) \u001b[38;5;28;01mas\u001b[39;00m exception:\n\u001b[1;32m    270\u001b[0m     \u001b[38;5;66;03m# Otherwise next return seems to have copy of error.\u001b[39;00m\n\u001b[1;32m    271\u001b[0m     warning_or_other_msg \u001b[38;5;241m=\u001b[39m \u001b[38;5;28mself\u001b[39m\u001b[38;5;241m.\u001b[39mflush()\n\u001b[0;32m--> 272\u001b[0m     \u001b[38;5;28;01mraise\u001b[39;00m RInterpreterError(code, \u001b[38;5;28mstr\u001b[39m(exception),\n\u001b[1;32m    273\u001b[0m                             warning_or_other_msg)\n\u001b[1;32m    274\u001b[0m text_output \u001b[38;5;241m=\u001b[39m \u001b[38;5;28mself\u001b[39m\u001b[38;5;241m.\u001b[39mflush()\n\u001b[1;32m    275\u001b[0m \u001b[38;5;28;01mreturn\u001b[39;00m text_output, value, visible[\u001b[38;5;241m0\u001b[39m]\n",
      "\u001b[0;31mRInterpreterError\u001b[0m: Failed to parse and evaluate line \"library(EnhancedVolcano)\\n\\nEnhancedVolcano(res05,\\n    lab = rownames(res05),\\n    pCutoff = 10e-32,\\n    FCcutoff = 0.5,\\n    x = 'log2FoldChange',\\n    y = 'pvalue')\\n\".\nR error message: \"Error in (function (expr, envir = parent.frame(), enclos = if (is.list(envir) ||  : \\n  object 'res05' not found\""
     ]
    }
   ],
   "source": [
    "%%R\n",
    "library(EnhancedVolcano)\n",
    "\n",
    "EnhancedVolcano(res05,\n",
    "    lab = rownames(res05),\n",
    "    x = 'log2FoldChange',\n",
    "    y = 'pvalue')"
   ]
  },
  {
   "cell_type": "code",
   "execution_count": 34,
   "id": "bd607d30-6212-4273-a2be-613ee699d733",
   "metadata": {
    "tags": []
   },
   "outputs": [
    {
     "data": {
      "image/png": "[encoded data removed]"
     },
     "metadata": {},
     "output_type": "display_data"
    }
   ],
   "source": [
    " %%R\n",
    "    EnhancedVolcano(res05,\n",
    "    lab = rownames(res05),\n",
    "    x = 'log2FoldChange',\n",
    "    y = 'pvalue',\n",
    "    title = 'D21 vs T21',\n",
    "    pCutoff = 10e-32,\n",
    "    FCcutoff = 0.5,\n",
    "    pointSize = 3.0,\n",
    "    labSize = 6.0)"
   ]
  },
  {
   "cell_type": "code",
   "execution_count": 29,
   "id": "72385afd-69e2-4d23-ba31-1128d067e585",
   "metadata": {
    "tags": []
   },
   "outputs": [
    {
     "name": "stdout",
     "output_type": "stream",
     "text": [
      "log2 fold change (MLE): Karyotype T21 vs Control \n",
      "Wald test p-value: Karyotype T21 vs Control \n",
      "DataFrame with 60662 rows and 6 columns\n",
      "                      baseMean log2FoldChange     lfcSE       stat      pvalue\n",
      "                     <numeric>      <numeric> <numeric>  <numeric>   <numeric>\n",
      "ENSG00000121410.12  15.8553278     0.06567461 0.0884863  0.7422008 4.57966e-01\n",
      "ENSG00000268895.6  322.0438535     0.22243079 0.0403323  5.5149553 3.48869e-08\n",
      "ENSG00000148584.15   0.0511323    -0.00740404 1.9732534 -0.0037522 9.97006e-01\n",
      "ENSG00000175899.14  11.3051100     0.09138934 0.1302749  0.7015112 4.82984e-01\n",
      "ENSG00000245105.4   51.5142278     0.15218248 0.0750360  2.0281273 4.25473e-02\n",
      "...                        ...            ...       ...        ...         ...\n",
      "ENSG00000232242.2         0.00             NA        NA         NA          NA\n",
      "ENSG00000162378.13      983.72     -0.2308189 0.0398489   -5.79235 6.94076e-09\n",
      "ENSG00000159840.16    22907.70      0.1196094 0.0753687    1.58699 1.12515e-01\n",
      "ENSG00000274572.1         0.00             NA        NA         NA          NA\n",
      "ENSG00000074755.15     4081.39     -0.0735825 0.0300737   -2.44674 1.44155e-02\n",
      "                          padj\n",
      "                     <numeric>\n",
      "ENSG00000121410.12 5.94551e-01\n",
      "ENSG00000268895.6  3.23727e-07\n",
      "ENSG00000148584.15          NA\n",
      "ENSG00000175899.14 6.17083e-01\n",
      "ENSG00000245105.4  9.24115e-02\n",
      "...                        ...\n",
      "ENSG00000232242.2           NA\n",
      "ENSG00000162378.13 7.26423e-08\n",
      "ENSG00000159840.16 2.04036e-01\n",
      "ENSG00000274572.1           NA\n",
      "ENSG00000074755.15 3.68639e-02\n"
     ]
    }
   ],
   "source": [
    "%%R\n",
    "res05"
   ]
  },
  {
   "cell_type": "code",
   "execution_count": 1,
   "id": "91425926-fb9d-41a5-9cb2-276204e505ad",
   "metadata": {},
   "outputs": [
    {
     "data": {
      "text/plain": [
       "3"
      ]
     },
     "execution_count": 1,
     "metadata": {},
     "output_type": "execute_result"
    }
   ],
   "source": [
    "1+2"
   ]
  },
  {
   "cell_type": "code",
   "execution_count": null,
   "id": "8ebf2e0d-8ed4-4a71-a6ba-f7701c03024e",
   "metadata": {},
   "outputs": [],
   "source": []
  }
 ],
 "metadata": {
  "kernelspec": {
   "display_name": "py_311_r43",
   "language": "python",
   "name": "py_311_r43"
  },
  "language_info": {
   "codemirror_mode": {
    "name": "ipython",
    "version": 3
   },
   "file_extension": ".py",
   "mimetype": "text/x-python",
   "name": "python",
   "nbconvert_exporter": "python",
   "pygments_lexer": "ipython3",
   "version": "3.11.5"
  },
  "widgets": {
   "application/vnd.jupyter.widget-state+json": {
    "state": {},
    "version_major": 2,
    "version_minor": 0
   }
  }
 },
 "nbformat": 4,
 "nbformat_minor": 5
}
