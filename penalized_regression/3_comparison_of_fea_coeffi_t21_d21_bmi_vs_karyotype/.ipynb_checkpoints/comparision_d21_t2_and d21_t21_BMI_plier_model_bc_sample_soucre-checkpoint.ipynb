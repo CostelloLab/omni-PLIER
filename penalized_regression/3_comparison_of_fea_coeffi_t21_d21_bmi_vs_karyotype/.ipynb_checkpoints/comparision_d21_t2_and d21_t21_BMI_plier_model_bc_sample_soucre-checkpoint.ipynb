{
 "cells": [
  {
   "cell_type": "code",
   "execution_count": 1,
   "id": "312193e2-8974-468d-99aa-27758173bf7b",
   "metadata": {
    "tags": []
   },
   "outputs": [
    {
     "name": "stdout",
     "output_type": "stream",
     "text": [
      "/media/sutanu/wd_sn_costello_lab/project/omni_PLIER/penalized_regression\n"
     ]
    }
   ],
   "source": [
    "import os\n",
    "project_root_path=os.path.abspath(os.path.join(os.path.dirname('__file__'),'..'))\n",
    "\n",
    "print(project_root_path)"
   ]
  },
  {
   "cell_type": "code",
   "execution_count": 2,
   "id": "624ff1a5-44e2-4884-97ea-a119b0cdfb5b",
   "metadata": {
    "tags": []
   },
   "outputs": [
    {
     "data": {
      "text/html": [
       "<div>\n",
       "<style scoped>\n",
       "    .dataframe tbody tr th:only-of-type {\n",
       "        vertical-align: middle;\n",
       "    }\n",
       "\n",
       "    .dataframe tbody tr th {\n",
       "        vertical-align: top;\n",
       "    }\n",
       "\n",
       "    .dataframe thead th {\n",
       "        text-align: right;\n",
       "    }\n",
       "</style>\n",
       "<table border=\"1\" class=\"dataframe\">\n",
       "  <thead>\n",
       "    <tr style=\"text-align: right;\">\n",
       "      <th></th>\n",
       "      <th>feature_name</th>\n",
       "      <th>feat_w_ela_net_coeff_obesity</th>\n",
       "    </tr>\n",
       "  </thead>\n",
       "  <tbody>\n",
       "    <tr>\n",
       "      <th>0</th>\n",
       "      <td>72,xCell:Erythrocytes_BLUEPRINT_2</td>\n",
       "      <td>0.828098</td>\n",
       "    </tr>\n",
       "    <tr>\n",
       "      <th>1</th>\n",
       "      <td>37,ZHAN_V1_LATE_DIFFERENTIATION_GENES_UP</td>\n",
       "      <td>0.660744</td>\n",
       "    </tr>\n",
       "  </tbody>\n",
       "</table>\n",
       "</div>"
      ],
      "text/plain": [
       "                               feature_name  feat_w_ela_net_coeff_obesity\n",
       "0         72,xCell:Erythrocytes_BLUEPRINT_2                      0.828098\n",
       "1  37,ZHAN_V1_LATE_DIFFERENTIATION_GENES_UP                      0.660744"
      ]
     },
     "execution_count": 2,
     "metadata": {},
     "output_type": "execute_result"
    }
   ],
   "source": [
    "import pandas as pd\n",
    "\n",
    "obesity_res_path=os.path.join(project_root_path, '2_t21_d21_bmi_plier_lvs_w_bc', 'output','features_w_elas_net_coeff','BMI_feature_w_ela_net.csv')\n",
    "obesity_df=pd.read_csv(obesity_res_path)\n",
    "\n",
    "obesity_df=obesity_df.rename(columns={'feat_w_ela_net_coeff':'feat_w_ela_net_coeff_obesity'})\n",
    "obesity_df.head(2)"
   ]
  },
  {
   "cell_type": "code",
   "execution_count": 3,
   "id": "b58cbf94-a230-493a-b8e2-6ac13741751b",
   "metadata": {
    "tags": []
   },
   "outputs": [
    {
     "data": {
      "text/html": [
       "<div>\n",
       "<style scoped>\n",
       "    .dataframe tbody tr th:only-of-type {\n",
       "        vertical-align: middle;\n",
       "    }\n",
       "\n",
       "    .dataframe tbody tr th {\n",
       "        vertical-align: top;\n",
       "    }\n",
       "\n",
       "    .dataframe thead th {\n",
       "        text-align: right;\n",
       "    }\n",
       "</style>\n",
       "<table border=\"1\" class=\"dataframe\">\n",
       "  <thead>\n",
       "    <tr style=\"text-align: right;\">\n",
       "      <th></th>\n",
       "      <th>feature_name</th>\n",
       "      <th>feat_w_ela_net_coeff_karyotype</th>\n",
       "    </tr>\n",
       "  </thead>\n",
       "  <tbody>\n",
       "    <tr>\n",
       "      <th>0</th>\n",
       "      <td>76,GSE22886_NAIVE_BCELL_VS_NEUTROPHIL_DN</td>\n",
       "      <td>0.878348</td>\n",
       "    </tr>\n",
       "    <tr>\n",
       "      <th>1</th>\n",
       "      <td>68,TIEN_INTESTINE_PROBIOTICS_6HR_UP</td>\n",
       "      <td>0.607123</td>\n",
       "    </tr>\n",
       "  </tbody>\n",
       "</table>\n",
       "</div>"
      ],
      "text/plain": [
       "                               feature_name  feat_w_ela_net_coeff_karyotype\n",
       "0  76,GSE22886_NAIVE_BCELL_VS_NEUTROPHIL_DN                        0.878348\n",
       "1       68,TIEN_INTESTINE_PROBIOTICS_6HR_UP                        0.607123"
      ]
     },
     "execution_count": 3,
     "metadata": {},
     "output_type": "execute_result"
    }
   ],
   "source": [
    "karyotype_res_path=os.path.join(project_root_path, '1_t21_d21_karyotype_plier_lvs_w_bc', 'output','features_w_elas_net_coeff','Karyotype_feature_w_ela_net.csv')\n",
    "karyotype_df=pd.read_csv(karyotype_res_path)\n",
    "\n",
    "karyotype_df=karyotype_df.rename(columns={'feat_w_ela_net_coeff':'feat_w_ela_net_coeff_karyotype'})\n",
    "karyotype_df.head(2)"
   ]
  },
  {
   "cell_type": "code",
   "execution_count": 4,
   "id": "7f9b6c0a-57f1-453f-99db-1fb39fa21cae",
   "metadata": {
    "tags": []
   },
   "outputs": [],
   "source": [
    "merge_karyotype_obesity=karyotype_df.merge(obesity_df, how='inner', on=['feature_name'])"
   ]
  },
  {
   "cell_type": "code",
   "execution_count": 5,
   "id": "58c47782-f09f-4589-9968-44a194e92824",
   "metadata": {
    "tags": []
   },
   "outputs": [
    {
     "data": {
      "text/html": [
       "<div>\n",
       "<style scoped>\n",
       "    .dataframe tbody tr th:only-of-type {\n",
       "        vertical-align: middle;\n",
       "    }\n",
       "\n",
       "    .dataframe tbody tr th {\n",
       "        vertical-align: top;\n",
       "    }\n",
       "\n",
       "    .dataframe thead th {\n",
       "        text-align: right;\n",
       "    }\n",
       "</style>\n",
       "<table border=\"1\" class=\"dataframe\">\n",
       "  <thead>\n",
       "    <tr style=\"text-align: right;\">\n",
       "      <th></th>\n",
       "      <th>feature_name</th>\n",
       "      <th>feat_w_ela_net_coeff_karyotype</th>\n",
       "      <th>feat_w_ela_net_coeff_obesity</th>\n",
       "    </tr>\n",
       "  </thead>\n",
       "  <tbody>\n",
       "    <tr>\n",
       "      <th>0</th>\n",
       "      <td>76,GSE22886_NAIVE_BCELL_VS_NEUTROPHIL_DN</td>\n",
       "      <td>0.878348</td>\n",
       "      <td>0.216954</td>\n",
       "    </tr>\n",
       "    <tr>\n",
       "      <th>1</th>\n",
       "      <td>68,TIEN_INTESTINE_PROBIOTICS_6HR_UP</td>\n",
       "      <td>0.607123</td>\n",
       "      <td>0.135290</td>\n",
       "    </tr>\n",
       "    <tr>\n",
       "      <th>2</th>\n",
       "      <td>3,TIEN_INTESTINE_PROBIOTICS_2HR_UP</td>\n",
       "      <td>0.605170</td>\n",
       "      <td>0.434881</td>\n",
       "    </tr>\n",
       "    <tr>\n",
       "      <th>3</th>\n",
       "      <td>99,ZHAN_V1_LATE_DIFFERENTIATION_GENES_UP</td>\n",
       "      <td>0.529723</td>\n",
       "      <td>0.558718</td>\n",
       "    </tr>\n",
       "    <tr>\n",
       "      <th>4</th>\n",
       "      <td>89,PID_IL6_7PATHWAY</td>\n",
       "      <td>0.417186</td>\n",
       "      <td>0.438367</td>\n",
       "    </tr>\n",
       "    <tr>\n",
       "      <th>...</th>\n",
       "      <td>...</td>\n",
       "      <td>...</td>\n",
       "      <td>...</td>\n",
       "    </tr>\n",
       "    <tr>\n",
       "      <th>112</th>\n",
       "      <td>45,GNATENKO_PLATELET_SIGNATURE</td>\n",
       "      <td>0.595349</td>\n",
       "      <td>0.020446</td>\n",
       "    </tr>\n",
       "    <tr>\n",
       "      <th>113</th>\n",
       "      <td>13,REACTOME_PEPTIDE_CHAIN_ELONGATION</td>\n",
       "      <td>0.601648</td>\n",
       "      <td>0.129461</td>\n",
       "    </tr>\n",
       "    <tr>\n",
       "      <th>114</th>\n",
       "      <td>14,MACLACHLAN_BRCA1_TARGETS_DN</td>\n",
       "      <td>0.602291</td>\n",
       "      <td>0.153923</td>\n",
       "    </tr>\n",
       "    <tr>\n",
       "      <th>115</th>\n",
       "      <td>56,LIANG_HEMATOPOIESIS_STEM_CELL_NUMBER_QTL</td>\n",
       "      <td>0.610908</td>\n",
       "      <td>0.621085</td>\n",
       "    </tr>\n",
       "    <tr>\n",
       "      <th>116</th>\n",
       "      <td>43,BAKER_HEMATOPOIESIS_STAT3_TARGETS</td>\n",
       "      <td>0.660051</td>\n",
       "      <td>0.376161</td>\n",
       "    </tr>\n",
       "  </tbody>\n",
       "</table>\n",
       "<p>117 rows × 3 columns</p>\n",
       "</div>"
      ],
      "text/plain": [
       "                                    feature_name  \\\n",
       "0       76,GSE22886_NAIVE_BCELL_VS_NEUTROPHIL_DN   \n",
       "1            68,TIEN_INTESTINE_PROBIOTICS_6HR_UP   \n",
       "2             3,TIEN_INTESTINE_PROBIOTICS_2HR_UP   \n",
       "3       99,ZHAN_V1_LATE_DIFFERENTIATION_GENES_UP   \n",
       "4                            89,PID_IL6_7PATHWAY   \n",
       "..                                           ...   \n",
       "112               45,GNATENKO_PLATELET_SIGNATURE   \n",
       "113         13,REACTOME_PEPTIDE_CHAIN_ELONGATION   \n",
       "114               14,MACLACHLAN_BRCA1_TARGETS_DN   \n",
       "115  56,LIANG_HEMATOPOIESIS_STEM_CELL_NUMBER_QTL   \n",
       "116         43,BAKER_HEMATOPOIESIS_STAT3_TARGETS   \n",
       "\n",
       "     feat_w_ela_net_coeff_karyotype  feat_w_ela_net_coeff_obesity  \n",
       "0                          0.878348                      0.216954  \n",
       "1                          0.607123                      0.135290  \n",
       "2                          0.605170                      0.434881  \n",
       "3                          0.529723                      0.558718  \n",
       "4                          0.417186                      0.438367  \n",
       "..                              ...                           ...  \n",
       "112                        0.595349                      0.020446  \n",
       "113                        0.601648                      0.129461  \n",
       "114                        0.602291                      0.153923  \n",
       "115                        0.610908                      0.621085  \n",
       "116                        0.660051                      0.376161  \n",
       "\n",
       "[117 rows x 3 columns]"
      ]
     },
     "metadata": {},
     "output_type": "display_data"
    }
   ],
   "source": [
    "merge_karyotype_obesity['feat_w_ela_net_coeff_karyotype']=abs(merge_karyotype_obesity['feat_w_ela_net_coeff_karyotype'])\n",
    "merge_karyotype_obesity['feat_w_ela_net_coeff_obesity']=abs(merge_karyotype_obesity['feat_w_ela_net_coeff_obesity'])\n",
    "#merge_karyotype_obesity=merge_karyotype_obesity.sort_values(by='feat_w_ela_net_coeff_obesity', ascending=False)\n",
    "display(merge_karyotype_obesity)"
   ]
  },
  {
   "cell_type": "code",
   "execution_count": 7,
   "id": "0c2b57f8-0184-443c-999f-6d68583678b6",
   "metadata": {},
   "outputs": [
    {
     "data": {
      "image/png": "[encoded data removed]",
      "text/plain": [
       "<Figure size 800x800 with 1 Axes>"
      ]
     },
     "metadata": {},
     "output_type": "display_data"
    }
   ],
   "source": [
    "import matplotlib.pyplot as plt\n",
    "import numpy as np\n",
    "\n",
    "import scipy as sp\n",
    "\n",
    "from adjustText import adjust_text\n",
    "\n",
    "res_plot=\"./output/comparion_faeture_ranking_coefficient_D21_T21_BMI_Karyotype_v4.pdf\"\n",
    "ax = plt.subplot(111)\n",
    "plt.rcParams[\"figure.figsize\"] = [8, 6]\n",
    "plt.rcParams[\"figure.autolayout\"] = True\n",
    "plt.rcParams[\"font.family\"] = \"Arial\"\n",
    "\n",
    "\n",
    "r, p = sp.stats.pearsonr(merge_karyotype_obesity['feat_w_ela_net_coeff_obesity'], merge_karyotype_obesity['feat_w_ela_net_coeff_karyotype'])\n",
    "\n",
    "ax.scatter(merge_karyotype_obesity['feat_w_ela_net_coeff_obesity'], merge_karyotype_obesity['feat_w_ela_net_coeff_karyotype'],alpha=0.5)\n",
    "\n",
    "\n",
    "\n",
    "\n",
    "merge_karyotype_obesity[['LVs','LVs_name']] = merge_karyotype_obesity['feature_name'].str.split(',',expand=True)\n",
    "\n",
    "merge_karyotype_obesity['LVs'] = 'LV' + merge_karyotype_obesity['LVs'].astype(str)\n",
    "\n",
    "sorted_karyotype = merge_karyotype_obesity.sort_values(by=['feat_w_ela_net_coeff_karyotype'], ascending=False)\n",
    "top_10_row_karyotype = sorted_karyotype.head(10)\n",
    "top_10_row_index_karyotype=top_10_row_karyotype.index\n",
    "\n",
    "sorted_obesity = merge_karyotype_obesity.sort_values(by=['feat_w_ela_net_coeff_obesity'], ascending=False)\n",
    "top_10_row_obesity = sorted_obesity.head(10)\n",
    "\n",
    "top_10_row_index_obesity=top_10_row_obesity.index\n",
    "\n",
    "common_id_karyo_type_obesity=list(set(top_10_row_index_karyotype) & set(top_10_row_index_obesity))\n",
    "\n",
    "\n",
    "#------annotation LVs by color ---------------------------------------\n",
    "texts = []\n",
    "for index, x, y, s in zip(merge_karyotype_obesity.index,merge_karyotype_obesity['feat_w_ela_net_coeff_obesity'], merge_karyotype_obesity['feat_w_ela_net_coeff_karyotype'],merge_karyotype_obesity['LVs']):\n",
    "    #print(index)\n",
    "    if index in top_10_row_index_karyotype:\n",
    "        texts.append(plt.text(x, y, s, fontsize=12, fontweight='bold', color='green'))\n",
    "        \n",
    "     #print(index)\n",
    "    if index in top_10_row_index_obesity:\n",
    "        texts.append(plt.text(x, y, s, fontsize=12, fontweight='bold', color='blue'))\n",
    "        \n",
    "     #print(index)\n",
    "    if index in common_id_karyo_type_obesity:\n",
    "        texts.append(plt.text(x, y, s, fontsize=12, fontweight='bold', color='red'))\n",
    "       \n",
    "        \n",
    "    \n",
    "\n",
    "adjust_text(texts, only_move={'points':'y', 'texts':'y'}, arrowprops=dict(arrowstyle=\"->\", color='black', lw=1.0))   \n",
    "    \n",
    "plt.ylabel(\"|Features (LVs) coeffi  of T21/D21-Karyotype|\", fontsize=13, fontweight='bold')\n",
    "plt.xlabel(\"|Features (LVs) coeffi of T21/D21-BMI|\", fontsize=13, fontweight='bold')\n",
    "plt.xticks(fontsize=12,fontweight='bold')\n",
    "plt.yticks(fontsize=12,fontweight='bold')\n",
    "# Remove the top and right spines\n",
    "ax.spines['top'].set_visible(False)\n",
    "ax.spines['right'].set_visible(False)\n",
    "\n",
    "#ax.axhline(y=0.50,linewidth=1.5, color='black', linestyle = 'dotted')\n",
    "#ax.axvline(x=0.5,linewidth=1.5, color='black', linestyle = 'dotted')\n",
    "\n",
    "\n",
    "\n",
    "#ax.ayhline(x=0.05,linewidth=1, color='r')\n",
    "\n",
    "#adjust_text(texts)\n",
    "plt.xlim(0, 1)\n",
    "plt.ylim(0, 1)\n",
    "\n",
    "plt.savefig(res_plot, bbox_inches = 'tight', dpi=300)\n",
    "plt.show()"
   ]
  },
  {
   "cell_type": "code",
   "execution_count": null,
   "id": "7be3fd95-1dd6-4a2d-a5cc-eb5f1a876864",
   "metadata": {},
   "outputs": [],
   "source": []
  },
  {
   "cell_type": "code",
   "execution_count": null,
   "id": "08c0d44f-0b7a-4797-9940-ea1bcb719c8e",
   "metadata": {},
   "outputs": [],
   "source": []
  },
  {
   "cell_type": "code",
   "execution_count": null,
   "id": "e0652461-019a-4e9f-9ab4-f60ca39de61b",
   "metadata": {},
   "outputs": [],
   "source": []
  }
 ],
 "metadata": {
  "kernelspec": {
   "display_name": "htp_da",
   "language": "python",
   "name": "htp_da"
  },
  "language_info": {
   "codemirror_mode": {
    "name": "ipython",
    "version": 3
   },
   "file_extension": ".py",
   "mimetype": "text/x-python",
   "name": "python",
   "nbconvert_exporter": "python",
   "pygments_lexer": "ipython3",
   "version": "3.11.0"
  },
  "widgets": {
   "application/vnd.jupyter.widget-state+json": {
    "state": {},
    "version_major": 2,
    "version_minor": 0
   }
  }
 },
 "nbformat": 4,
 "nbformat_minor": 5
}
