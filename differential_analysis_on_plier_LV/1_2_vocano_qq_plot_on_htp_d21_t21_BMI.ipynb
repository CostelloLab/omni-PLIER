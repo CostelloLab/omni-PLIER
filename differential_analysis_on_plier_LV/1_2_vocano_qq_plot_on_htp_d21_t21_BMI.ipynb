{
 "cells": [
  {
   "cell_type": "code",
   "execution_count": 1,
   "id": "69cafa95-250e-472e-b292-61a2e4ade445",
   "metadata": {},
   "outputs": [],
   "source": [
    "import os\n",
    "\n",
    "os.environ['R_HOME'] = '/home/snandi/anaconda3/envs/py_311_r43/lib/R'\n",
    "%load_ext rpy2.ipython"
   ]
  },
  {
   "cell_type": "code",
   "execution_count": 2,
   "id": "5bcb1f51-ade0-4e3b-a55e-8ec0c3376913",
   "metadata": {
    "tags": []
   },
   "outputs": [],
   "source": [
    "%%R\n",
    "\n",
    "read_count_dis_co_occu_d21_t21=read.csv('./output/plier_LVS_D21_T2_BMI_htp_for_deseq2.csv', header = TRUE)\n",
    "\n",
    "# Convert the first column to row names\n",
    "rownames(read_count_dis_co_occu_d21_t21) <- read_count_dis_co_occu_d21_t21[, ncol(read_count_dis_co_occu_d21_t21)]\n",
    "\n",
    "# Remove the first column from the data frame\n",
    "read_count_dis_co_occu_d21_t21 <- read_count_dis_co_occu_d21_t21[, -ncol(read_count_dis_co_occu_d21_t21)]\n",
    "\n",
    "# Display the first few rows of the data\n",
    "#head(read_count_dis_co_occu_d21_t21)"
   ]
  },
  {
   "cell_type": "code",
   "execution_count": 3,
   "id": "07a843e2-100a-4972-a9c3-98e1248d494d",
   "metadata": {
    "tags": []
   },
   "outputs": [
    {
     "name": "stdout",
     "output_type": "stream",
     "text": [
      "             Sex Karyotype Event_name     LabID Age_at_visit      BMI\n",
      "HTP0001B2 Female   Control    Visit 3 HTP0001B2         25.8 21.92959\n",
      "HTP0005A3   Male       T21    Visit 3 HTP0005A3         36.5 24.34652\n",
      "HTP0012A2 Female       T21    Visit 2 HTP0012A2         44.0 23.14031\n",
      "HTP0015A4   Male       T21    Visit 4 HTP0015A4         31.2 62.34889\n",
      "HTP0017A4 Female       T21    Visit 4 HTP0017A4         23.6 24.17873\n",
      "HTP0022B2 Female   Control    Visit 2 HTP0022B2         43.2 27.95809\n",
      "          Sample_source Anxiety Any.autoimmune.skin.condition\n",
      "HTP0001B2         Local       1                             0\n",
      "HTP0005A3         Local       1                             0\n",
      "HTP0012A2         Local       0                             1\n",
      "HTP0015A4         Local       0                             1\n",
      "HTP0017A4         Local       0                             0\n",
      "HTP0022B2         Local       1                             0\n",
      "          Any.congenital.heart.defect Any.hearing.loss.condition\n",
      "HTP0001B2                           0                          0\n",
      "HTP0005A3                           0                          0\n",
      "HTP0012A2                          NA                          0\n",
      "HTP0015A4                           1                          0\n",
      "HTP0017A4                           1                          0\n",
      "HTP0022B2                           0                          0\n",
      "          Any.hypothyroidism Any.seizure.history Any.sleep.apnea\n",
      "HTP0001B2                  0                  NA               0\n",
      "HTP0005A3                  0                   1               1\n",
      "HTP0012A2                  0                   1              NA\n",
      "HTP0015A4                  1                  NA               1\n",
      "HTP0017A4                  0                  NA               0\n",
      "HTP0022B2                  0                  NA               0\n",
      "          Asthma.reactive.airway.disease Autism.spectrum.disorder Cataracts\n",
      "HTP0001B2                              0                        0         0\n",
      "HTP0005A3                              0                        0         0\n",
      "HTP0012A2                             NA                        0         0\n",
      "HTP0015A4                              1                        0         0\n",
      "HTP0017A4                              0                        0         0\n",
      "HTP0022B2                              0                        0         0\n",
      "          Celiac.disease Depression Frequent.Recurrent.pneumonia Obesity\n",
      "HTP0001B2              0          0                            0       0\n",
      "HTP0005A3              0          0                            0       0\n",
      "HTP0012A2              0          1                           NA       0\n",
      "HTP0015A4              0          0                            0       1\n",
      "HTP0017A4              0          0                            0       0\n",
      "HTP0022B2              0          1                            0       0\n",
      "          Pulmonary.hypertension Recurrent.otitis.media Regression   BMI_dis\n",
      "HTP0001B2                      0                      0          0 BMI_LT_30\n",
      "HTP0005A3                      0                      0          0 BMI_LT_30\n",
      "HTP0012A2                     NA                     NA          0 BMI_LT_30\n",
      "HTP0015A4                      0                      0          0 BMI_GT_30\n",
      "HTP0017A4                      0                      0          0 BMI_LT_30\n",
      "HTP0022B2                      0                      0          0 BMI_LT_30\n"
     ]
    }
   ],
   "source": [
    "%%R\n",
    "\n",
    "meta_data_dis_co_occu_d21_t21=read.csv('./output/HTP_meta_data_D21_T21_BMI.csv', header = TRUE)\n",
    "\n",
    "# Convert the first column to row names\n",
    "rownames(meta_data_dis_co_occu_d21_t21) <- meta_data_dis_co_occu_d21_t21$LabID\n",
    "\n",
    "# Remove the first column from the data frame\n",
    "#read_count_dis_co_occu_d21_t21 <- read_count_dis_co_occu_d21_t21[, -1]\n",
    "\n",
    "# Display the first few rows of the data\n",
    "head(meta_data_dis_co_occu_d21_t21)"
   ]
  },
  {
   "cell_type": "code",
   "execution_count": 5,
   "id": "988e56a2-331e-4cc7-97fc-895ab3b3b1ee",
   "metadata": {
    "tags": []
   },
   "outputs": [],
   "source": [
    "%%R\n",
    "group=meta_data_dis_co_occu_d21_t21$BMI_dis"
   ]
  },
  {
   "cell_type": "code",
   "execution_count": 6,
   "id": "712e9058-d5cd-4f46-835b-d6b1bbf6fdf7",
   "metadata": {
    "tags": []
   },
   "outputs": [
    {
     "name": "stderr",
     "output_type": "stream",
     "text": [
      "R[write to console]: Removing intercept from test coefficients\n",
      "\n"
     ]
    }
   ],
   "source": [
    "%%R\n",
    "# Load the limma package\n",
    "library(limma)\n",
    "\n",
    "# Example expression matrix M (rows are genes, columns are samples)\n",
    "#M <- matrix(rnorm(1000), nrow=100, ncol=10)  # Simulated data\n",
    "\n",
    "# Create a design matrix\n",
    "#group <- factor(c(rep(\"Control\", 5), rep(\"Treatment\", 5)))\n",
    "design <- model.matrix(~group)\n",
    "\n",
    "# Fit the linear model\n",
    "fit <- lmFit(read_count_dis_co_occu_d21_t21, design)\n",
    "\n",
    "# Examine the fit object\n",
    "head(fit)\n",
    "\n",
    "fit <- eBayes(fit)\n",
    "results <- topTable(fit, number=Inf)\n",
    "\n",
    "\n",
    "# Create the volcano plot\n",
    "volcano_data <- data.frame(\n",
    "    LVs=rownames(results),\n",
    "    logFC = results$logFC,\n",
    "    adj_Pval=results$adj.P.Val,\n",
    "    negLogadj_Pval = -log10(results$adj.P.Val)\n",
    ")"
   ]
  },
  {
   "cell_type": "code",
   "execution_count": 7,
   "id": "7144f2c1-e0d4-4f3d-b063-c6a6ebce98bd",
   "metadata": {
    "tags": []
   },
   "outputs": [
    {
     "name": "stdout",
     "output_type": "stream",
     "text": [
      "    LVs      logFC     adj_Pval negLogadj_Pval\n",
      "1  LV37 -5.8620505 3.330138e-06       5.477538\n",
      "2  LV43  2.7419379 2.468918e-04       3.607493\n",
      "3  LV34  3.4855795 2.468918e-04       3.607493\n",
      "4   LV6 -6.1226084 2.653734e-04       3.576143\n",
      "5  LV83  1.8089640 1.841066e-03       2.734931\n",
      "6 LV100  0.9929464 2.852902e-03       2.544713\n"
     ]
    }
   ],
   "source": [
    "%%R\n",
    "\n",
    "head(volcano_data)\n"
   ]
  },
  {
   "cell_type": "code",
   "execution_count": 8,
   "id": "db273f2c-46a6-4d0f-b794-97c421fab2b0",
   "metadata": {
    "tags": []
   },
   "outputs": [],
   "source": [
    "%%R\n",
    "\n",
    "fit$gene_names=rownames(fit)"
   ]
  },
  {
   "cell_type": "code",
   "execution_count": 9,
   "id": "f9447ab5-15fd-4e5b-8f5f-33c3c3dff3d9",
   "metadata": {
    "tags": []
   },
   "outputs": [],
   "source": [
    "%%R\n",
    "# The significantly differentially expressed genes are the ones found in the upper-left and upper-right corners.\n",
    "# Add a column to the data frame to specify if they are UP- or DOWN- regulated (log2FoldChange respectively positive or negative)\n",
    "\n",
    "# add a column of NAs\n",
    "volcano_data$diffexpressed <- \"NO\"\n",
    "# if log2Foldchange > 0.6 and pvalue < 0.05, set as \"UP\" \n",
    "volcano_data$diffexpressed[volcano_data$logFC > 0.6 & volcano_data$P.Value < 0.05] <- \"UP\"\n",
    "# if log2Foldchange < -0.6 and pvalue < 0.05, set as \"DOWN\"\n",
    "volcano_data$diffexpressed[volcano_data$logFC < -0.6 & volcano_data$P.Value < 0.05] <- \"DOWN\"\n"
   ]
  },
  {
   "cell_type": "code",
   "execution_count": 10,
   "id": "105a19b6-2325-46c0-955f-8fbd48500c62",
   "metadata": {
    "tags": []
   },
   "outputs": [
    {
     "name": "stdout",
     "output_type": "stream",
     "text": [
      "    LVs      logFC     adj_Pval negLogadj_Pval diffexpressed\n",
      "1  LV37 -5.8620505 3.330138e-06       5.477538            NO\n",
      "2  LV43  2.7419379 2.468918e-04       3.607493            NO\n",
      "3  LV34  3.4855795 2.468918e-04       3.607493            NO\n",
      "4   LV6 -6.1226084 2.653734e-04       3.576143            NO\n",
      "5  LV83  1.8089640 1.841066e-03       2.734931            NO\n",
      "6 LV100  0.9929464 2.852902e-03       2.544713            NO\n"
     ]
    }
   ],
   "source": [
    "%%R\n",
    "head(volcano_data)"
   ]
  },
  {
   "cell_type": "code",
   "execution_count": 11,
   "id": "c15c7f3d-8eca-4f25-8656-8f252e37c044",
   "metadata": {
    "tags": []
   },
   "outputs": [
    {
     "name": "stderr",
     "output_type": "stream",
     "text": [
      "R[write to console]: Loading required package: ggplot2\n",
      "\n",
      "R[write to console]: Loading required package: ggrepel\n",
      "\n"
     ]
    }
   ],
   "source": [
    "%%R\n",
    "library(EnhancedVolcano)\n",
    "p1=EnhancedVolcano(volcano_data,\n",
    "lab = volcano_data$LVs,\n",
    "x = 'logFC',\n",
    "y = 'adj_Pval',\n",
    "title = 'D21/T21-BMI',\n",
    "xlab = 'Log2 FC of LVs',\n",
    "ylab = '-Log10 adj-P-value',\n",
    "pCutoff = 0.05,\n",
    "pCutoffCol = 'adj_Pval',\n",
    "                \n",
    "FCcutoff = 2,\n",
    "pointSize = 3.0,\n",
    "labSize = 6.0,\n",
    "subtitle = 'Differential LVs',\n",
    "legendLabels = c(\"NS\", expression(Log[2] ~ FC), \"adj-P\", expression(\"adj-P-value\" ~ and~ log[2] ~ FC)),)\n",
    "\n",
    "\n",
    "\n",
    "ggsave(\"./output/volcano_plot_plier_LVS_d21_t21_BMI.pdf\", plot = p1, width = 6, height = 6, dpi = 300, units = \"in\",bg=\"white\", device = \"pdf\")\n"
   ]
  },
  {
   "cell_type": "code",
   "execution_count": null,
   "id": "8949c146-af99-4cd6-ad81-3302230b5451",
   "metadata": {},
   "outputs": [],
   "source": []
  },
  {
   "cell_type": "code",
   "execution_count": null,
   "id": "f3309bff-5948-4020-8c06-a2bd8fb34483",
   "metadata": {},
   "outputs": [],
   "source": []
  },
  {
   "cell_type": "code",
   "execution_count": null,
   "id": "37945955-0ca6-4a1d-af59-6779b1800c45",
   "metadata": {},
   "outputs": [],
   "source": []
  }
 ],
 "metadata": {
  "kernelspec": {
   "display_name": "py_311_r43",
   "language": "python",
   "name": "py_311_r43"
  },
  "language_info": {
   "codemirror_mode": {
    "name": "ipython",
    "version": 3
   },
   "file_extension": ".py",
   "mimetype": "text/x-python",
   "name": "python",
   "nbconvert_exporter": "python",
   "pygments_lexer": "ipython3",
   "version": "3.11.5"
  },
  "widgets": {
   "application/vnd.jupyter.widget-state+json": {
    "state": {},
    "version_major": 2,
    "version_minor": 0
   }
  }
 },
 "nbformat": 4,
 "nbformat_minor": 5
}
